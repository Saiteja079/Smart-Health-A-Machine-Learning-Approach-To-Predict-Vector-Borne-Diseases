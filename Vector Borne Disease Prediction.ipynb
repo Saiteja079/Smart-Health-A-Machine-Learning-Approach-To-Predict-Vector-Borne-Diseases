{
 "cells": [
  {
   "cell_type": "code",
   "execution_count": 3,
   "id": "49aea032",
   "metadata": {
    "execution": {
     "iopub.execute_input": "2022-04-06T13:27:23.170746Z",
     "iopub.status.busy": "2022-04-06T13:27:23.170008Z",
     "iopub.status.idle": "2022-04-06T13:27:24.640550Z",
     "shell.execute_reply": "2022-04-06T13:27:24.639874Z",
     "shell.execute_reply.started": "2022-04-06T10:19:01.616382Z"
    },
    "papermill": {
     "duration": 1.518582,
     "end_time": "2022-04-06T13:27:24.640731",
     "exception": false,
     "start_time": "2022-04-06T13:27:23.122149",
     "status": "completed"
    },
    "tags": []
   },
   "outputs": [],
   "source": [
    "import pandas as pd\n",
    "import numpy as np\n",
    "import matplotlib.pyplot as plt\n",
    "from sklearn.feature_selection import chi2,SelectKBest\n",
    "from sklearn.model_selection import train_test_split,GridSearchCV\n",
    "from sklearn.metrics import classification_report\n",
    "import seaborn as sns\n",
    "from sklearn.neighbors import KNeighborsClassifier\n",
    "from sklearn.linear_model import LogisticRegression\n",
    "from sklearn.ensemble import AdaBoostClassifier, GradientBoostingClassifier,RandomForestClassifier\n",
    "from sklearn.naive_bayes import MultinomialNB"
   ]
  },
  {
   "cell_type": "markdown",
   "id": "64eb9e28",
   "metadata": {
    "papermill": {
     "duration": 0.044787,
     "end_time": "2022-04-06T13:27:24.730893",
     "exception": false,
     "start_time": "2022-04-06T13:27:24.686106",
     "status": "completed"
    },
    "tags": []
   },
   "source": [
    "### Reading and Analysing Dataset"
   ]
  },
  {
   "cell_type": "code",
   "execution_count": null,
   "id": "ccf60205",
   "metadata": {
    "execution": {
     "iopub.execute_input": "2022-04-06T13:27:24.825695Z",
     "iopub.status.busy": "2022-04-06T13:27:24.824687Z",
     "iopub.status.idle": "2022-04-06T13:27:24.875234Z",
     "shell.execute_reply": "2022-04-06T13:27:24.875741Z",
     "shell.execute_reply.started": "2022-04-06T10:19:01.739707Z"
    },
    "papermill": {
     "duration": 0.100056,
     "end_time": "2022-04-06T13:27:24.875911",
     "exception": false,
     "start_time": "2022-04-06T13:27:24.775855",
     "status": "completed"
    },
    "tags": []
   },
   "outputs": [
    {
     "ename": "FileNotFoundError",
     "evalue": "[Errno 2] No such file or directory: 'dataset/train.csv'",
     "output_type": "error",
     "traceback": [
      "\u001b[1;31m---------------------------------------------------------------------------\u001b[0m",
      "\u001b[1;31mFileNotFoundError\u001b[0m                         Traceback (most recent call last)",
      "Input \u001b[1;32mIn [7]\u001b[0m, in \u001b[0;36m<cell line: 1>\u001b[1;34m()\u001b[0m\n\u001b[1;32m----> 1\u001b[0m df \u001b[38;5;241m=\u001b[39m \u001b[43mpd\u001b[49m\u001b[38;5;241;43m.\u001b[39;49m\u001b[43mread_csv\u001b[49m\u001b[43m(\u001b[49m\u001b[38;5;124;43m'\u001b[39;49m\u001b[38;5;124;43mdataset/train.csv\u001b[39;49m\u001b[38;5;124;43m'\u001b[39;49m\u001b[43m)\u001b[49m\n\u001b[0;32m      2\u001b[0m df\n",
      "File \u001b[1;32mc:\\Users\\saite\\anaconda3\\lib\\site-packages\\pandas\\util\\_decorators.py:311\u001b[0m, in \u001b[0;36mdeprecate_nonkeyword_arguments.<locals>.decorate.<locals>.wrapper\u001b[1;34m(*args, **kwargs)\u001b[0m\n\u001b[0;32m    305\u001b[0m \u001b[38;5;28;01mif\u001b[39;00m \u001b[38;5;28mlen\u001b[39m(args) \u001b[38;5;241m>\u001b[39m num_allow_args:\n\u001b[0;32m    306\u001b[0m     warnings\u001b[38;5;241m.\u001b[39mwarn(\n\u001b[0;32m    307\u001b[0m         msg\u001b[38;5;241m.\u001b[39mformat(arguments\u001b[38;5;241m=\u001b[39marguments),\n\u001b[0;32m    308\u001b[0m         \u001b[38;5;167;01mFutureWarning\u001b[39;00m,\n\u001b[0;32m    309\u001b[0m         stacklevel\u001b[38;5;241m=\u001b[39mstacklevel,\n\u001b[0;32m    310\u001b[0m     )\n\u001b[1;32m--> 311\u001b[0m \u001b[38;5;28;01mreturn\u001b[39;00m func(\u001b[38;5;241m*\u001b[39margs, \u001b[38;5;241m*\u001b[39m\u001b[38;5;241m*\u001b[39mkwargs)\n",
      "File \u001b[1;32mc:\\Users\\saite\\anaconda3\\lib\\site-packages\\pandas\\io\\parsers\\readers.py:680\u001b[0m, in \u001b[0;36mread_csv\u001b[1;34m(filepath_or_buffer, sep, delimiter, header, names, index_col, usecols, squeeze, prefix, mangle_dupe_cols, dtype, engine, converters, true_values, false_values, skipinitialspace, skiprows, skipfooter, nrows, na_values, keep_default_na, na_filter, verbose, skip_blank_lines, parse_dates, infer_datetime_format, keep_date_col, date_parser, dayfirst, cache_dates, iterator, chunksize, compression, thousands, decimal, lineterminator, quotechar, quoting, doublequote, escapechar, comment, encoding, encoding_errors, dialect, error_bad_lines, warn_bad_lines, on_bad_lines, delim_whitespace, low_memory, memory_map, float_precision, storage_options)\u001b[0m\n\u001b[0;32m    665\u001b[0m kwds_defaults \u001b[38;5;241m=\u001b[39m _refine_defaults_read(\n\u001b[0;32m    666\u001b[0m     dialect,\n\u001b[0;32m    667\u001b[0m     delimiter,\n\u001b[1;32m   (...)\u001b[0m\n\u001b[0;32m    676\u001b[0m     defaults\u001b[38;5;241m=\u001b[39m{\u001b[38;5;124m\"\u001b[39m\u001b[38;5;124mdelimiter\u001b[39m\u001b[38;5;124m\"\u001b[39m: \u001b[38;5;124m\"\u001b[39m\u001b[38;5;124m,\u001b[39m\u001b[38;5;124m\"\u001b[39m},\n\u001b[0;32m    677\u001b[0m )\n\u001b[0;32m    678\u001b[0m kwds\u001b[38;5;241m.\u001b[39mupdate(kwds_defaults)\n\u001b[1;32m--> 680\u001b[0m \u001b[38;5;28;01mreturn\u001b[39;00m \u001b[43m_read\u001b[49m\u001b[43m(\u001b[49m\u001b[43mfilepath_or_buffer\u001b[49m\u001b[43m,\u001b[49m\u001b[43m \u001b[49m\u001b[43mkwds\u001b[49m\u001b[43m)\u001b[49m\n",
      "File \u001b[1;32mc:\\Users\\saite\\anaconda3\\lib\\site-packages\\pandas\\io\\parsers\\readers.py:575\u001b[0m, in \u001b[0;36m_read\u001b[1;34m(filepath_or_buffer, kwds)\u001b[0m\n\u001b[0;32m    572\u001b[0m _validate_names(kwds\u001b[38;5;241m.\u001b[39mget(\u001b[38;5;124m\"\u001b[39m\u001b[38;5;124mnames\u001b[39m\u001b[38;5;124m\"\u001b[39m, \u001b[38;5;28;01mNone\u001b[39;00m))\n\u001b[0;32m    574\u001b[0m \u001b[38;5;66;03m# Create the parser.\u001b[39;00m\n\u001b[1;32m--> 575\u001b[0m parser \u001b[38;5;241m=\u001b[39m TextFileReader(filepath_or_buffer, \u001b[38;5;241m*\u001b[39m\u001b[38;5;241m*\u001b[39mkwds)\n\u001b[0;32m    577\u001b[0m \u001b[38;5;28;01mif\u001b[39;00m chunksize \u001b[38;5;129;01mor\u001b[39;00m iterator:\n\u001b[0;32m    578\u001b[0m     \u001b[38;5;28;01mreturn\u001b[39;00m parser\n",
      "File \u001b[1;32mc:\\Users\\saite\\anaconda3\\lib\\site-packages\\pandas\\io\\parsers\\readers.py:933\u001b[0m, in \u001b[0;36mTextFileReader.__init__\u001b[1;34m(self, f, engine, **kwds)\u001b[0m\n\u001b[0;32m    930\u001b[0m     \u001b[38;5;28mself\u001b[39m\u001b[38;5;241m.\u001b[39moptions[\u001b[38;5;124m\"\u001b[39m\u001b[38;5;124mhas_index_names\u001b[39m\u001b[38;5;124m\"\u001b[39m] \u001b[38;5;241m=\u001b[39m kwds[\u001b[38;5;124m\"\u001b[39m\u001b[38;5;124mhas_index_names\u001b[39m\u001b[38;5;124m\"\u001b[39m]\n\u001b[0;32m    932\u001b[0m \u001b[38;5;28mself\u001b[39m\u001b[38;5;241m.\u001b[39mhandles: IOHandles \u001b[38;5;241m|\u001b[39m \u001b[38;5;28;01mNone\u001b[39;00m \u001b[38;5;241m=\u001b[39m \u001b[38;5;28;01mNone\u001b[39;00m\n\u001b[1;32m--> 933\u001b[0m \u001b[38;5;28mself\u001b[39m\u001b[38;5;241m.\u001b[39m_engine \u001b[38;5;241m=\u001b[39m \u001b[38;5;28;43mself\u001b[39;49m\u001b[38;5;241;43m.\u001b[39;49m\u001b[43m_make_engine\u001b[49m\u001b[43m(\u001b[49m\u001b[43mf\u001b[49m\u001b[43m,\u001b[49m\u001b[43m \u001b[49m\u001b[38;5;28;43mself\u001b[39;49m\u001b[38;5;241;43m.\u001b[39;49m\u001b[43mengine\u001b[49m\u001b[43m)\u001b[49m\n",
      "File \u001b[1;32mc:\\Users\\saite\\anaconda3\\lib\\site-packages\\pandas\\io\\parsers\\readers.py:1217\u001b[0m, in \u001b[0;36mTextFileReader._make_engine\u001b[1;34m(self, f, engine)\u001b[0m\n\u001b[0;32m   1213\u001b[0m     mode \u001b[38;5;241m=\u001b[39m \u001b[38;5;124m\"\u001b[39m\u001b[38;5;124mrb\u001b[39m\u001b[38;5;124m\"\u001b[39m\n\u001b[0;32m   1214\u001b[0m \u001b[38;5;66;03m# error: No overload variant of \"get_handle\" matches argument types\u001b[39;00m\n\u001b[0;32m   1215\u001b[0m \u001b[38;5;66;03m# \"Union[str, PathLike[str], ReadCsvBuffer[bytes], ReadCsvBuffer[str]]\"\u001b[39;00m\n\u001b[0;32m   1216\u001b[0m \u001b[38;5;66;03m# , \"str\", \"bool\", \"Any\", \"Any\", \"Any\", \"Any\", \"Any\"\u001b[39;00m\n\u001b[1;32m-> 1217\u001b[0m \u001b[38;5;28mself\u001b[39m\u001b[38;5;241m.\u001b[39mhandles \u001b[38;5;241m=\u001b[39m \u001b[43mget_handle\u001b[49m\u001b[43m(\u001b[49m\u001b[43m  \u001b[49m\u001b[38;5;66;43;03m# type: ignore[call-overload]\u001b[39;49;00m\n\u001b[0;32m   1218\u001b[0m \u001b[43m    \u001b[49m\u001b[43mf\u001b[49m\u001b[43m,\u001b[49m\n\u001b[0;32m   1219\u001b[0m \u001b[43m    \u001b[49m\u001b[43mmode\u001b[49m\u001b[43m,\u001b[49m\n\u001b[0;32m   1220\u001b[0m \u001b[43m    \u001b[49m\u001b[43mencoding\u001b[49m\u001b[38;5;241;43m=\u001b[39;49m\u001b[38;5;28;43mself\u001b[39;49m\u001b[38;5;241;43m.\u001b[39;49m\u001b[43moptions\u001b[49m\u001b[38;5;241;43m.\u001b[39;49m\u001b[43mget\u001b[49m\u001b[43m(\u001b[49m\u001b[38;5;124;43m\"\u001b[39;49m\u001b[38;5;124;43mencoding\u001b[39;49m\u001b[38;5;124;43m\"\u001b[39;49m\u001b[43m,\u001b[49m\u001b[43m \u001b[49m\u001b[38;5;28;43;01mNone\u001b[39;49;00m\u001b[43m)\u001b[49m\u001b[43m,\u001b[49m\n\u001b[0;32m   1221\u001b[0m \u001b[43m    \u001b[49m\u001b[43mcompression\u001b[49m\u001b[38;5;241;43m=\u001b[39;49m\u001b[38;5;28;43mself\u001b[39;49m\u001b[38;5;241;43m.\u001b[39;49m\u001b[43moptions\u001b[49m\u001b[38;5;241;43m.\u001b[39;49m\u001b[43mget\u001b[49m\u001b[43m(\u001b[49m\u001b[38;5;124;43m\"\u001b[39;49m\u001b[38;5;124;43mcompression\u001b[39;49m\u001b[38;5;124;43m\"\u001b[39;49m\u001b[43m,\u001b[49m\u001b[43m \u001b[49m\u001b[38;5;28;43;01mNone\u001b[39;49;00m\u001b[43m)\u001b[49m\u001b[43m,\u001b[49m\n\u001b[0;32m   1222\u001b[0m \u001b[43m    \u001b[49m\u001b[43mmemory_map\u001b[49m\u001b[38;5;241;43m=\u001b[39;49m\u001b[38;5;28;43mself\u001b[39;49m\u001b[38;5;241;43m.\u001b[39;49m\u001b[43moptions\u001b[49m\u001b[38;5;241;43m.\u001b[39;49m\u001b[43mget\u001b[49m\u001b[43m(\u001b[49m\u001b[38;5;124;43m\"\u001b[39;49m\u001b[38;5;124;43mmemory_map\u001b[39;49m\u001b[38;5;124;43m\"\u001b[39;49m\u001b[43m,\u001b[49m\u001b[43m \u001b[49m\u001b[38;5;28;43;01mFalse\u001b[39;49;00m\u001b[43m)\u001b[49m\u001b[43m,\u001b[49m\n\u001b[0;32m   1223\u001b[0m \u001b[43m    \u001b[49m\u001b[43mis_text\u001b[49m\u001b[38;5;241;43m=\u001b[39;49m\u001b[43mis_text\u001b[49m\u001b[43m,\u001b[49m\n\u001b[0;32m   1224\u001b[0m \u001b[43m    \u001b[49m\u001b[43merrors\u001b[49m\u001b[38;5;241;43m=\u001b[39;49m\u001b[38;5;28;43mself\u001b[39;49m\u001b[38;5;241;43m.\u001b[39;49m\u001b[43moptions\u001b[49m\u001b[38;5;241;43m.\u001b[39;49m\u001b[43mget\u001b[49m\u001b[43m(\u001b[49m\u001b[38;5;124;43m\"\u001b[39;49m\u001b[38;5;124;43mencoding_errors\u001b[39;49m\u001b[38;5;124;43m\"\u001b[39;49m\u001b[43m,\u001b[49m\u001b[43m \u001b[49m\u001b[38;5;124;43m\"\u001b[39;49m\u001b[38;5;124;43mstrict\u001b[39;49m\u001b[38;5;124;43m\"\u001b[39;49m\u001b[43m)\u001b[49m\u001b[43m,\u001b[49m\n\u001b[0;32m   1225\u001b[0m \u001b[43m    \u001b[49m\u001b[43mstorage_options\u001b[49m\u001b[38;5;241;43m=\u001b[39;49m\u001b[38;5;28;43mself\u001b[39;49m\u001b[38;5;241;43m.\u001b[39;49m\u001b[43moptions\u001b[49m\u001b[38;5;241;43m.\u001b[39;49m\u001b[43mget\u001b[49m\u001b[43m(\u001b[49m\u001b[38;5;124;43m\"\u001b[39;49m\u001b[38;5;124;43mstorage_options\u001b[39;49m\u001b[38;5;124;43m\"\u001b[39;49m\u001b[43m,\u001b[49m\u001b[43m \u001b[49m\u001b[38;5;28;43;01mNone\u001b[39;49;00m\u001b[43m)\u001b[49m\u001b[43m,\u001b[49m\n\u001b[0;32m   1226\u001b[0m \u001b[43m\u001b[49m\u001b[43m)\u001b[49m\n\u001b[0;32m   1227\u001b[0m \u001b[38;5;28;01massert\u001b[39;00m \u001b[38;5;28mself\u001b[39m\u001b[38;5;241m.\u001b[39mhandles \u001b[38;5;129;01mis\u001b[39;00m \u001b[38;5;129;01mnot\u001b[39;00m \u001b[38;5;28;01mNone\u001b[39;00m\n\u001b[0;32m   1228\u001b[0m f \u001b[38;5;241m=\u001b[39m \u001b[38;5;28mself\u001b[39m\u001b[38;5;241m.\u001b[39mhandles\u001b[38;5;241m.\u001b[39mhandle\n",
      "File \u001b[1;32mc:\\Users\\saite\\anaconda3\\lib\\site-packages\\pandas\\io\\common.py:789\u001b[0m, in \u001b[0;36mget_handle\u001b[1;34m(path_or_buf, mode, encoding, compression, memory_map, is_text, errors, storage_options)\u001b[0m\n\u001b[0;32m    784\u001b[0m \u001b[38;5;28;01melif\u001b[39;00m \u001b[38;5;28misinstance\u001b[39m(handle, \u001b[38;5;28mstr\u001b[39m):\n\u001b[0;32m    785\u001b[0m     \u001b[38;5;66;03m# Check whether the filename is to be opened in binary mode.\u001b[39;00m\n\u001b[0;32m    786\u001b[0m     \u001b[38;5;66;03m# Binary mode does not support 'encoding' and 'newline'.\u001b[39;00m\n\u001b[0;32m    787\u001b[0m     \u001b[38;5;28;01mif\u001b[39;00m ioargs\u001b[38;5;241m.\u001b[39mencoding \u001b[38;5;129;01mand\u001b[39;00m \u001b[38;5;124m\"\u001b[39m\u001b[38;5;124mb\u001b[39m\u001b[38;5;124m\"\u001b[39m \u001b[38;5;129;01mnot\u001b[39;00m \u001b[38;5;129;01min\u001b[39;00m ioargs\u001b[38;5;241m.\u001b[39mmode:\n\u001b[0;32m    788\u001b[0m         \u001b[38;5;66;03m# Encoding\u001b[39;00m\n\u001b[1;32m--> 789\u001b[0m         handle \u001b[38;5;241m=\u001b[39m \u001b[38;5;28;43mopen\u001b[39;49m\u001b[43m(\u001b[49m\n\u001b[0;32m    790\u001b[0m \u001b[43m            \u001b[49m\u001b[43mhandle\u001b[49m\u001b[43m,\u001b[49m\n\u001b[0;32m    791\u001b[0m \u001b[43m            \u001b[49m\u001b[43mioargs\u001b[49m\u001b[38;5;241;43m.\u001b[39;49m\u001b[43mmode\u001b[49m\u001b[43m,\u001b[49m\n\u001b[0;32m    792\u001b[0m \u001b[43m            \u001b[49m\u001b[43mencoding\u001b[49m\u001b[38;5;241;43m=\u001b[39;49m\u001b[43mioargs\u001b[49m\u001b[38;5;241;43m.\u001b[39;49m\u001b[43mencoding\u001b[49m\u001b[43m,\u001b[49m\n\u001b[0;32m    793\u001b[0m \u001b[43m            \u001b[49m\u001b[43merrors\u001b[49m\u001b[38;5;241;43m=\u001b[39;49m\u001b[43merrors\u001b[49m\u001b[43m,\u001b[49m\n\u001b[0;32m    794\u001b[0m \u001b[43m            \u001b[49m\u001b[43mnewline\u001b[49m\u001b[38;5;241;43m=\u001b[39;49m\u001b[38;5;124;43m\"\u001b[39;49m\u001b[38;5;124;43m\"\u001b[39;49m\u001b[43m,\u001b[49m\n\u001b[0;32m    795\u001b[0m \u001b[43m        \u001b[49m\u001b[43m)\u001b[49m\n\u001b[0;32m    796\u001b[0m     \u001b[38;5;28;01melse\u001b[39;00m:\n\u001b[0;32m    797\u001b[0m         \u001b[38;5;66;03m# Binary mode\u001b[39;00m\n\u001b[0;32m    798\u001b[0m         handle \u001b[38;5;241m=\u001b[39m \u001b[38;5;28mopen\u001b[39m(handle, ioargs\u001b[38;5;241m.\u001b[39mmode)\n",
      "\u001b[1;31mFileNotFoundError\u001b[0m: [Errno 2] No such file or directory: 'dataset/train.csv'"
     ]
    }
   ],
   "source": [
    "df = pd.read_csv('data.csv')\n",
    "df"
   ]
  },
  {
   "cell_type": "code",
   "execution_count": null,
   "id": "beb13d6d",
   "metadata": {
    "execution": {
     "iopub.execute_input": "2022-04-06T13:27:24.971772Z",
     "iopub.status.busy": "2022-04-06T13:27:24.970794Z",
     "iopub.status.idle": "2022-04-06T13:27:25.122780Z",
     "shell.execute_reply": "2022-04-06T13:27:25.123319Z",
     "shell.execute_reply.started": "2022-04-06T10:19:01.824066Z"
    },
    "papermill": {
     "duration": 0.201742,
     "end_time": "2022-04-06T13:27:25.123490",
     "exception": false,
     "start_time": "2022-04-06T13:27:24.921748",
     "status": "completed"
    },
    "tags": []
   },
   "outputs": [
    {
     "data": {
      "text/html": [
       "<div>\n",
       "<style scoped>\n",
       "    .dataframe tbody tr th:only-of-type {\n",
       "        vertical-align: middle;\n",
       "    }\n",
       "\n",
       "    .dataframe tbody tr th {\n",
       "        vertical-align: top;\n",
       "    }\n",
       "\n",
       "    .dataframe thead th {\n",
       "        text-align: right;\n",
       "    }\n",
       "</style>\n",
       "<table border=\"1\" class=\"dataframe\">\n",
       "  <thead>\n",
       "    <tr style=\"text-align: right;\">\n",
       "      <th></th>\n",
       "      <th>sudden_fever</th>\n",
       "      <th>headache</th>\n",
       "      <th>mouth_bleed</th>\n",
       "      <th>nose_bleed</th>\n",
       "      <th>muscle_pain</th>\n",
       "      <th>joint_pain</th>\n",
       "      <th>vomiting</th>\n",
       "      <th>rash</th>\n",
       "      <th>diarrhea</th>\n",
       "      <th>hypotension</th>\n",
       "      <th>...</th>\n",
       "      <th>lymph_swells</th>\n",
       "      <th>breathing_restriction</th>\n",
       "      <th>toe_inflammation</th>\n",
       "      <th>finger_inflammation</th>\n",
       "      <th>lips_irritation</th>\n",
       "      <th>itchiness</th>\n",
       "      <th>ulcers</th>\n",
       "      <th>toenail_loss</th>\n",
       "      <th>speech_problem</th>\n",
       "      <th>bullseye_rash</th>\n",
       "    </tr>\n",
       "  </thead>\n",
       "  <tbody>\n",
       "    <tr>\n",
       "      <th>count</th>\n",
       "      <td>252.000000</td>\n",
       "      <td>252.000000</td>\n",
       "      <td>252.000000</td>\n",
       "      <td>252.000000</td>\n",
       "      <td>252.000000</td>\n",
       "      <td>252.000000</td>\n",
       "      <td>252.000000</td>\n",
       "      <td>252.000000</td>\n",
       "      <td>252.000000</td>\n",
       "      <td>252.000000</td>\n",
       "      <td>...</td>\n",
       "      <td>252.000000</td>\n",
       "      <td>252.000000</td>\n",
       "      <td>252.000000</td>\n",
       "      <td>252.000000</td>\n",
       "      <td>252.000000</td>\n",
       "      <td>252.000000</td>\n",
       "      <td>252.000000</td>\n",
       "      <td>252.000000</td>\n",
       "      <td>252.000000</td>\n",
       "      <td>252.000000</td>\n",
       "    </tr>\n",
       "    <tr>\n",
       "      <th>mean</th>\n",
       "      <td>0.515873</td>\n",
       "      <td>0.460317</td>\n",
       "      <td>0.519841</td>\n",
       "      <td>0.547619</td>\n",
       "      <td>0.519841</td>\n",
       "      <td>0.503968</td>\n",
       "      <td>0.480159</td>\n",
       "      <td>0.496032</td>\n",
       "      <td>0.452381</td>\n",
       "      <td>0.468254</td>\n",
       "      <td>...</td>\n",
       "      <td>0.246032</td>\n",
       "      <td>0.170635</td>\n",
       "      <td>0.198413</td>\n",
       "      <td>0.178571</td>\n",
       "      <td>0.182540</td>\n",
       "      <td>0.202381</td>\n",
       "      <td>0.154762</td>\n",
       "      <td>0.170635</td>\n",
       "      <td>0.119048</td>\n",
       "      <td>0.123016</td>\n",
       "    </tr>\n",
       "    <tr>\n",
       "      <th>std</th>\n",
       "      <td>0.500743</td>\n",
       "      <td>0.499415</td>\n",
       "      <td>0.500600</td>\n",
       "      <td>0.498718</td>\n",
       "      <td>0.500600</td>\n",
       "      <td>0.500979</td>\n",
       "      <td>0.500600</td>\n",
       "      <td>0.500979</td>\n",
       "      <td>0.498718</td>\n",
       "      <td>0.499984</td>\n",
       "      <td>...</td>\n",
       "      <td>0.431554</td>\n",
       "      <td>0.376938</td>\n",
       "      <td>0.399598</td>\n",
       "      <td>0.383755</td>\n",
       "      <td>0.387057</td>\n",
       "      <td>0.402574</td>\n",
       "      <td>0.362397</td>\n",
       "      <td>0.376938</td>\n",
       "      <td>0.324489</td>\n",
       "      <td>0.329109</td>\n",
       "    </tr>\n",
       "    <tr>\n",
       "      <th>min</th>\n",
       "      <td>0.000000</td>\n",
       "      <td>0.000000</td>\n",
       "      <td>0.000000</td>\n",
       "      <td>0.000000</td>\n",
       "      <td>0.000000</td>\n",
       "      <td>0.000000</td>\n",
       "      <td>0.000000</td>\n",
       "      <td>0.000000</td>\n",
       "      <td>0.000000</td>\n",
       "      <td>0.000000</td>\n",
       "      <td>...</td>\n",
       "      <td>0.000000</td>\n",
       "      <td>0.000000</td>\n",
       "      <td>0.000000</td>\n",
       "      <td>0.000000</td>\n",
       "      <td>0.000000</td>\n",
       "      <td>0.000000</td>\n",
       "      <td>0.000000</td>\n",
       "      <td>0.000000</td>\n",
       "      <td>0.000000</td>\n",
       "      <td>0.000000</td>\n",
       "    </tr>\n",
       "    <tr>\n",
       "      <th>25%</th>\n",
       "      <td>0.000000</td>\n",
       "      <td>0.000000</td>\n",
       "      <td>0.000000</td>\n",
       "      <td>0.000000</td>\n",
       "      <td>0.000000</td>\n",
       "      <td>0.000000</td>\n",
       "      <td>0.000000</td>\n",
       "      <td>0.000000</td>\n",
       "      <td>0.000000</td>\n",
       "      <td>0.000000</td>\n",
       "      <td>...</td>\n",
       "      <td>0.000000</td>\n",
       "      <td>0.000000</td>\n",
       "      <td>0.000000</td>\n",
       "      <td>0.000000</td>\n",
       "      <td>0.000000</td>\n",
       "      <td>0.000000</td>\n",
       "      <td>0.000000</td>\n",
       "      <td>0.000000</td>\n",
       "      <td>0.000000</td>\n",
       "      <td>0.000000</td>\n",
       "    </tr>\n",
       "    <tr>\n",
       "      <th>50%</th>\n",
       "      <td>1.000000</td>\n",
       "      <td>0.000000</td>\n",
       "      <td>1.000000</td>\n",
       "      <td>1.000000</td>\n",
       "      <td>1.000000</td>\n",
       "      <td>1.000000</td>\n",
       "      <td>0.000000</td>\n",
       "      <td>0.000000</td>\n",
       "      <td>0.000000</td>\n",
       "      <td>0.000000</td>\n",
       "      <td>...</td>\n",
       "      <td>0.000000</td>\n",
       "      <td>0.000000</td>\n",
       "      <td>0.000000</td>\n",
       "      <td>0.000000</td>\n",
       "      <td>0.000000</td>\n",
       "      <td>0.000000</td>\n",
       "      <td>0.000000</td>\n",
       "      <td>0.000000</td>\n",
       "      <td>0.000000</td>\n",
       "      <td>0.000000</td>\n",
       "    </tr>\n",
       "    <tr>\n",
       "      <th>75%</th>\n",
       "      <td>1.000000</td>\n",
       "      <td>1.000000</td>\n",
       "      <td>1.000000</td>\n",
       "      <td>1.000000</td>\n",
       "      <td>1.000000</td>\n",
       "      <td>1.000000</td>\n",
       "      <td>1.000000</td>\n",
       "      <td>1.000000</td>\n",
       "      <td>1.000000</td>\n",
       "      <td>1.000000</td>\n",
       "      <td>...</td>\n",
       "      <td>0.000000</td>\n",
       "      <td>0.000000</td>\n",
       "      <td>0.000000</td>\n",
       "      <td>0.000000</td>\n",
       "      <td>0.000000</td>\n",
       "      <td>0.000000</td>\n",
       "      <td>0.000000</td>\n",
       "      <td>0.000000</td>\n",
       "      <td>0.000000</td>\n",
       "      <td>0.000000</td>\n",
       "    </tr>\n",
       "    <tr>\n",
       "      <th>max</th>\n",
       "      <td>1.000000</td>\n",
       "      <td>1.000000</td>\n",
       "      <td>1.000000</td>\n",
       "      <td>1.000000</td>\n",
       "      <td>1.000000</td>\n",
       "      <td>1.000000</td>\n",
       "      <td>1.000000</td>\n",
       "      <td>1.000000</td>\n",
       "      <td>1.000000</td>\n",
       "      <td>1.000000</td>\n",
       "      <td>...</td>\n",
       "      <td>1.000000</td>\n",
       "      <td>1.000000</td>\n",
       "      <td>1.000000</td>\n",
       "      <td>1.000000</td>\n",
       "      <td>1.000000</td>\n",
       "      <td>1.000000</td>\n",
       "      <td>1.000000</td>\n",
       "      <td>1.000000</td>\n",
       "      <td>1.000000</td>\n",
       "      <td>1.000000</td>\n",
       "    </tr>\n",
       "  </tbody>\n",
       "</table>\n",
       "<p>8 rows × 64 columns</p>\n",
       "</div>"
      ],
      "text/plain": [
       "       sudden_fever    headache  mouth_bleed  nose_bleed  muscle_pain  \\\n",
       "count    252.000000  252.000000   252.000000  252.000000   252.000000   \n",
       "mean       0.515873    0.460317     0.519841    0.547619     0.519841   \n",
       "std        0.500743    0.499415     0.500600    0.498718     0.500600   \n",
       "min        0.000000    0.000000     0.000000    0.000000     0.000000   \n",
       "25%        0.000000    0.000000     0.000000    0.000000     0.000000   \n",
       "50%        1.000000    0.000000     1.000000    1.000000     1.000000   \n",
       "75%        1.000000    1.000000     1.000000    1.000000     1.000000   \n",
       "max        1.000000    1.000000     1.000000    1.000000     1.000000   \n",
       "\n",
       "       joint_pain    vomiting        rash    diarrhea  hypotension  ...  \\\n",
       "count  252.000000  252.000000  252.000000  252.000000   252.000000  ...   \n",
       "mean     0.503968    0.480159    0.496032    0.452381     0.468254  ...   \n",
       "std      0.500979    0.500600    0.500979    0.498718     0.499984  ...   \n",
       "min      0.000000    0.000000    0.000000    0.000000     0.000000  ...   \n",
       "25%      0.000000    0.000000    0.000000    0.000000     0.000000  ...   \n",
       "50%      1.000000    0.000000    0.000000    0.000000     0.000000  ...   \n",
       "75%      1.000000    1.000000    1.000000    1.000000     1.000000  ...   \n",
       "max      1.000000    1.000000    1.000000    1.000000     1.000000  ...   \n",
       "\n",
       "       lymph_swells  breathing_restriction  toe_inflammation  \\\n",
       "count    252.000000             252.000000        252.000000   \n",
       "mean       0.246032               0.170635          0.198413   \n",
       "std        0.431554               0.376938          0.399598   \n",
       "min        0.000000               0.000000          0.000000   \n",
       "25%        0.000000               0.000000          0.000000   \n",
       "50%        0.000000               0.000000          0.000000   \n",
       "75%        0.000000               0.000000          0.000000   \n",
       "max        1.000000               1.000000          1.000000   \n",
       "\n",
       "       finger_inflammation  lips_irritation   itchiness      ulcers  \\\n",
       "count           252.000000       252.000000  252.000000  252.000000   \n",
       "mean              0.178571         0.182540    0.202381    0.154762   \n",
       "std               0.383755         0.387057    0.402574    0.362397   \n",
       "min               0.000000         0.000000    0.000000    0.000000   \n",
       "25%               0.000000         0.000000    0.000000    0.000000   \n",
       "50%               0.000000         0.000000    0.000000    0.000000   \n",
       "75%               0.000000         0.000000    0.000000    0.000000   \n",
       "max               1.000000         1.000000    1.000000    1.000000   \n",
       "\n",
       "       toenail_loss  speech_problem  bullseye_rash  \n",
       "count    252.000000      252.000000     252.000000  \n",
       "mean       0.170635        0.119048       0.123016  \n",
       "std        0.376938        0.324489       0.329109  \n",
       "min        0.000000        0.000000       0.000000  \n",
       "25%        0.000000        0.000000       0.000000  \n",
       "50%        0.000000        0.000000       0.000000  \n",
       "75%        0.000000        0.000000       0.000000  \n",
       "max        1.000000        1.000000       1.000000  \n",
       "\n",
       "[8 rows x 64 columns]"
      ]
     },
     "execution_count": 3,
     "metadata": {},
     "output_type": "execute_result"
    }
   ],
   "source": [
    "df.describe()"
   ]
  },
  {
   "cell_type": "code",
   "execution_count": null,
   "id": "53eb69a8",
   "metadata": {
    "execution": {
     "iopub.execute_input": "2022-04-06T13:27:25.221241Z",
     "iopub.status.busy": "2022-04-06T13:27:25.220260Z",
     "iopub.status.idle": "2022-04-06T13:27:25.239230Z",
     "shell.execute_reply": "2022-04-06T13:27:25.239728Z",
     "shell.execute_reply.started": "2022-04-06T10:19:01.957795Z"
    },
    "papermill": {
     "duration": 0.06948,
     "end_time": "2022-04-06T13:27:25.239899",
     "exception": false,
     "start_time": "2022-04-06T13:27:25.170419",
     "status": "completed"
    },
    "tags": []
   },
   "outputs": [
    {
     "name": "stdout",
     "output_type": "stream",
     "text": [
      "<class 'pandas.core.frame.DataFrame'>\n",
      "RangeIndex: 252 entries, 0 to 251\n",
      "Data columns (total 65 columns):\n",
      " #   Column                 Non-Null Count  Dtype \n",
      "---  ------                 --------------  ----- \n",
      " 0   sudden_fever           252 non-null    int64 \n",
      " 1   headache               252 non-null    int64 \n",
      " 2   mouth_bleed            252 non-null    int64 \n",
      " 3   nose_bleed             252 non-null    int64 \n",
      " 4   muscle_pain            252 non-null    int64 \n",
      " 5   joint_pain             252 non-null    int64 \n",
      " 6   vomiting               252 non-null    int64 \n",
      " 7   rash                   252 non-null    int64 \n",
      " 8   diarrhea               252 non-null    int64 \n",
      " 9   hypotension            252 non-null    int64 \n",
      " 10  pleural_effusion       252 non-null    int64 \n",
      " 11  ascites                252 non-null    int64 \n",
      " 12  gastro_bleeding        252 non-null    int64 \n",
      " 13  swelling               252 non-null    int64 \n",
      " 14  nausea                 252 non-null    int64 \n",
      " 15  chills                 252 non-null    int64 \n",
      " 16  myalgia                252 non-null    int64 \n",
      " 17  digestion_trouble      252 non-null    int64 \n",
      " 18  fatigue                252 non-null    int64 \n",
      " 19  skin_lesions           252 non-null    int64 \n",
      " 20  stomach_pain           252 non-null    int64 \n",
      " 21  orbital_pain           252 non-null    int64 \n",
      " 22  neck_pain              252 non-null    int64 \n",
      " 23  weakness               252 non-null    int64 \n",
      " 24  back_pain              252 non-null    int64 \n",
      " 25  weight_loss            252 non-null    int64 \n",
      " 26  gum_bleed              252 non-null    int64 \n",
      " 27  jaundice               252 non-null    int64 \n",
      " 28  coma                   252 non-null    int64 \n",
      " 29  diziness               252 non-null    int64 \n",
      " 30  inflammation           252 non-null    int64 \n",
      " 31  red_eyes               252 non-null    int64 \n",
      " 32  loss_of_appetite       252 non-null    int64 \n",
      " 33  urination_loss         252 non-null    int64 \n",
      " 34  slow_heart_rate        252 non-null    int64 \n",
      " 35  abdominal_pain         252 non-null    int64 \n",
      " 36  light_sensitivity      252 non-null    int64 \n",
      " 37  yellow_skin            252 non-null    int64 \n",
      " 38  yellow_eyes            252 non-null    int64 \n",
      " 39  facial_distortion      252 non-null    int64 \n",
      " 40  microcephaly           252 non-null    int64 \n",
      " 41  rigor                  252 non-null    int64 \n",
      " 42  bitter_tongue          252 non-null    int64 \n",
      " 43  convulsion             252 non-null    int64 \n",
      " 44  anemia                 252 non-null    int64 \n",
      " 45  cocacola_urine         252 non-null    int64 \n",
      " 46  hypoglycemia           252 non-null    int64 \n",
      " 47  prostraction           252 non-null    int64 \n",
      " 48  hyperpyrexia           252 non-null    int64 \n",
      " 49  stiff_neck             252 non-null    int64 \n",
      " 50  irritability           252 non-null    int64 \n",
      " 51  confusion              252 non-null    int64 \n",
      " 52  tremor                 252 non-null    int64 \n",
      " 53  paralysis              252 non-null    int64 \n",
      " 54  lymph_swells           252 non-null    int64 \n",
      " 55  breathing_restriction  252 non-null    int64 \n",
      " 56  toe_inflammation       252 non-null    int64 \n",
      " 57  finger_inflammation    252 non-null    int64 \n",
      " 58  lips_irritation        252 non-null    int64 \n",
      " 59  itchiness              252 non-null    int64 \n",
      " 60  ulcers                 252 non-null    int64 \n",
      " 61  toenail_loss           252 non-null    int64 \n",
      " 62  speech_problem         252 non-null    int64 \n",
      " 63  bullseye_rash          252 non-null    int64 \n",
      " 64  prognosis              252 non-null    object\n",
      "dtypes: int64(64), object(1)\n",
      "memory usage: 128.1+ KB\n"
     ]
    }
   ],
   "source": [
    "df.info()"
   ]
  },
  {
   "cell_type": "code",
   "execution_count": null,
   "id": "965b36be",
   "metadata": {
    "execution": {
     "iopub.execute_input": "2022-04-06T13:27:25.435053Z",
     "iopub.status.busy": "2022-04-06T13:27:25.434275Z",
     "iopub.status.idle": "2022-04-06T13:27:25.696704Z",
     "shell.execute_reply": "2022-04-06T13:27:25.695459Z",
     "shell.execute_reply.started": "2022-04-06T10:19:02.039285Z"
    },
    "papermill": {
     "duration": 0.315953,
     "end_time": "2022-04-06T13:27:25.696981",
     "exception": false,
     "start_time": "2022-04-06T13:27:25.381028",
     "status": "completed"
    },
    "tags": []
   },
   "outputs": [
    {
     "data": {
      "text/plain": [
       "<AxesSubplot:>"
      ]
     },
     "execution_count": 5,
     "metadata": {},
     "output_type": "execute_result"
    },
    {
     "data": {
      "image/png": "[encoded data removed]",
      "text/plain": [
       "<Figure size 432x288 with 1 Axes>"
      ]
     },
     "metadata": {},
     "output_type": "display_data"
    }
   ],
   "source": [
    "df.groupby('prognosis').size().plot(kind='pie', autopct='%.2f',label='')"
   ]
  },
  {
   "cell_type": "code",
   "execution_count": null,
   "id": "6ee52192",
   "metadata": {
    "execution": {
     "iopub.execute_input": "2022-04-06T13:27:25.814831Z",
     "iopub.status.busy": "2022-04-06T13:27:25.813747Z",
     "iopub.status.idle": "2022-04-06T13:27:26.283382Z",
     "shell.execute_reply": "2022-04-06T13:27:26.283939Z",
     "shell.execute_reply.started": "2022-04-06T10:19:02.389453Z"
    },
    "papermill": {
     "duration": 0.522748,
     "end_time": "2022-04-06T13:27:26.284121",
     "exception": false,
     "start_time": "2022-04-06T13:27:25.761373",
     "status": "completed"
    },
    "tags": []
   },
   "outputs": [
    {
     "data": {
      "image/png": "[encoded data removed]",
      "text/plain": [
       "<Figure size 432x288 with 2 Axes>"
      ]
     },
     "metadata": {
      "needs_background": "light"
     },
     "output_type": "display_data"
    }
   ],
   "source": [
    "sns.heatmap(df.corr())\n",
    "plt.show()"
   ]
  },
  {
   "cell_type": "markdown",
   "id": "5d7eab56",
   "metadata": {
    "papermill": {
     "duration": 0.053025,
     "end_time": "2022-04-06T13:27:26.491851",
     "exception": false,
     "start_time": "2022-04-06T13:27:26.438826",
     "status": "completed"
    },
    "tags": []
   },
   "source": [
    "# Feature selection"
   ]
  },
  {
   "cell_type": "code",
   "execution_count": null,
   "id": "00f67797",
   "metadata": {
    "execution": {
     "iopub.execute_input": "2022-04-06T13:27:26.712715Z",
     "iopub.status.busy": "2022-04-06T13:27:26.711976Z",
     "iopub.status.idle": "2022-04-06T13:27:27.822106Z",
     "shell.execute_reply": "2022-04-06T13:27:27.822645Z",
     "shell.execute_reply.started": "2022-04-06T10:19:02.840742Z"
    },
    "papermill": {
     "duration": 1.174772,
     "end_time": "2022-04-06T13:27:27.822829",
     "exception": false,
     "start_time": "2022-04-06T13:27:26.648057",
     "status": "completed"
    },
    "tags": []
   },
   "outputs": [
    {
     "name": "stdout",
     "output_type": "stream",
     "text": [
      "speech_problem    1.479529e-30\n",
      "bullseye_rash     5.462412e-30\n",
      "toenail_loss      3.417364e-28\n",
      "ulcers            6.245624e-26\n",
      "itchiness         2.056296e-25\n",
      "                      ...     \n",
      "rash              8.582283e-02\n",
      "mouth_bleed       1.257875e-01\n",
      "vomiting          1.738650e-01\n",
      "muscle_pain       2.200208e-01\n",
      "joint_pain        3.209356e-01\n",
      "Length: 64, dtype: float64\n"
     ]
    },
    {
     "data": {
      "image/png": "[encoded data removed]",
      "text/plain": [
       "<Figure size 432x288 with 1 Axes>"
      ]
     },
     "metadata": {
      "needs_background": "light"
     },
     "output_type": "display_data"
    },
    {
     "name": "stdout",
     "output_type": "stream",
     "text": [
      "Uninformative columns:\n",
      " sudden_fever    0.022979\n",
      "nose_bleed      0.060156\n",
      "diarrhea        0.078984\n",
      "rash            0.085823\n",
      "mouth_bleed     0.125788\n",
      "vomiting        0.173865\n",
      "muscle_pain     0.220021\n",
      "joint_pain      0.320936\n",
      "dtype: float64\n"
     ]
    }
   ],
   "source": [
    "chi2_selector = SelectKBest(chi2, k='all')\n",
    "chi2_selector.fit(df.drop(columns=['prognosis']), df['prognosis'])\n",
    "p_values = pd.Series(chi2_selector.pvalues_)\n",
    "p_values.index=df.drop(columns=['prognosis']).columns\n",
    "p_values.sort_values(ascending=True,inplace=True)\n",
    "print(p_values)\n",
    "p_values.plot.bar()\n",
    "plt.yticks([i/20 for i in range(20)])\n",
    "plt.show()\n",
    "print('Uninformative columns:\\n',p_values[p_values>0.01])\n"
   ]
  },
  {
   "cell_type": "code",
   "execution_count": null,
   "id": "77955d4a",
   "metadata": {
    "execution": {
     "iopub.execute_input": "2022-04-06T13:27:28.052825Z",
     "iopub.status.busy": "2022-04-06T13:27:28.052153Z",
     "iopub.status.idle": "2022-04-06T13:27:28.056672Z",
     "shell.execute_reply": "2022-04-06T13:27:28.057201Z",
     "shell.execute_reply.started": "2022-04-06T10:19:03.791239Z"
    },
    "papermill": {
     "duration": 0.067312,
     "end_time": "2022-04-06T13:27:28.057378",
     "exception": false,
     "start_time": "2022-04-06T13:27:27.990066",
     "status": "completed"
    },
    "tags": []
   },
   "outputs": [],
   "source": [
    "df_p_5 = df.drop(columns=['joint_pain','muscle_pain','vomiting','mouth_bleed','rash','diarrhea','nose_bleed'])\n",
    "df_p_1 = df.drop(columns=['joint_pain','muscle_pain','vomiting','mouth_bleed','rash','diarrhea','nose_bleed','sudden_fever'])\n",
    "df_p_10 = df.drop(columns=['joint_pain','muscle_pain','vomiting','mouth_bleed'])\n",
    "df_p_20 = df.drop(columns=['joint_pain','muscle_pain'])"
   ]
  },
  {
   "cell_type": "markdown",
   "id": "f228cea2",
   "metadata": {
    "papermill": {
     "duration": 0.053575,
     "end_time": "2022-04-06T13:27:28.273028",
     "exception": false,
     "start_time": "2022-04-06T13:27:28.219453",
     "status": "completed"
    },
    "tags": []
   },
   "source": [
    "### Split Data in Train & Test"
   ]
  },
  {
   "cell_type": "code",
   "execution_count": null,
   "id": "0fa21278",
   "metadata": {
    "execution": {
     "iopub.execute_input": "2022-04-06T13:27:28.394926Z",
     "iopub.status.busy": "2022-04-06T13:27:28.392966Z",
     "iopub.status.idle": "2022-04-06T13:27:28.399772Z",
     "shell.execute_reply": "2022-04-06T13:27:28.400328Z",
     "shell.execute_reply.started": "2022-04-06T10:19:03.802994Z"
    },
    "papermill": {
     "duration": 0.073237,
     "end_time": "2022-04-06T13:27:28.400516",
     "exception": false,
     "start_time": "2022-04-06T13:27:28.327279",
     "status": "completed"
    },
    "tags": []
   },
   "outputs": [],
   "source": [
    "X_train,X_test,y_train,y_test = train_test_split(df.drop(columns=['prognosis']),df.prognosis,test_size=0.3)\n",
    "X_train_20,X_test_20,y_train_20,y_test_20 = train_test_split(df_p_20.drop(columns=['prognosis']),df_p_20.prognosis,test_size=0.3)\n",
    "X_train_10,X_test_10,y_train_10,y_test_10 = train_test_split(df_p_10.drop(columns=['prognosis']),df_p_10.prognosis,test_size=0.3)\n",
    "X_train_5,X_test_5,y_train_5,y_test_5 = train_test_split(df_p_5.drop(columns=['prognosis']),df_p_5.prognosis,test_size=0.3)\n",
    "X_train_1,X_test_1,y_train_1,y_test_1 = train_test_split(df_p_1.drop(columns=['prognosis']),df_p_1.prognosis,test_size=0.3)"
   ]
  },
  {
   "cell_type": "markdown",
   "id": "234faa07",
   "metadata": {
    "papermill": {
     "duration": 0.055906,
     "end_time": "2022-04-06T13:27:28.510376",
     "exception": false,
     "start_time": "2022-04-06T13:27:28.454470",
     "status": "completed"
    },
    "tags": []
   },
   "source": [
    "## Logistic Regression"
   ]
  },
  {
   "cell_type": "code",
   "execution_count": null,
   "id": "7df19fd1",
   "metadata": {
    "execution": {
     "iopub.execute_input": "2022-04-06T13:27:28.628617Z",
     "iopub.status.busy": "2022-04-06T13:27:28.627714Z",
     "iopub.status.idle": "2022-04-06T13:27:28.714152Z",
     "shell.execute_reply": "2022-04-06T13:27:28.714660Z",
     "shell.execute_reply.started": "2022-04-06T10:19:03.822178Z"
    },
    "papermill": {
     "duration": 0.149607,
     "end_time": "2022-04-06T13:27:28.714832",
     "exception": false,
     "start_time": "2022-04-06T13:27:28.565225",
     "status": "completed"
    },
    "tags": []
   },
   "outputs": [
    {
     "name": "stdout",
     "output_type": "stream",
     "text": [
      "Train data:\n",
      "                       precision    recall  f1-score   support\n",
      "\n",
      "          Chikungunya       1.00      1.00      1.00        19\n",
      "               Dengue       1.00      1.00      1.00        20\n",
      "Japanese encephalitis       1.00      1.00      1.00        15\n",
      "         Lyme disease       1.00      1.00      1.00        16\n",
      "              Malaria       1.00      1.00      1.00        12\n",
      "               Plague       1.00      1.00      1.00        17\n",
      "    Rift Valley fever       1.00      1.00      1.00        14\n",
      "            Tungiasis       1.00      1.00      1.00        17\n",
      "      West Nile fever       1.00      1.00      1.00        14\n",
      "         Yellow Fever       1.00      1.00      1.00        15\n",
      "                 Zika       1.00      1.00      1.00        17\n",
      "\n",
      "             accuracy                           1.00       176\n",
      "            macro avg       1.00      1.00      1.00       176\n",
      "         weighted avg       1.00      1.00      1.00       176\n",
      "\n",
      "Test data:\n",
      "                       precision    recall  f1-score   support\n",
      "\n",
      "          Chikungunya       1.00      1.00      1.00         4\n",
      "               Dengue       1.00      0.75      0.86         4\n",
      "Japanese encephalitis       0.75      0.75      0.75         8\n",
      "         Lyme disease       1.00      1.00      1.00         6\n",
      "              Malaria       1.00      0.92      0.96        12\n",
      "               Plague       1.00      1.00      1.00         6\n",
      "    Rift Valley fever       0.78      0.88      0.82         8\n",
      "            Tungiasis       1.00      1.00      1.00         6\n",
      "      West Nile fever       0.67      0.86      0.75         7\n",
      "         Yellow Fever       1.00      0.89      0.94         9\n",
      "                 Zika       1.00      1.00      1.00         6\n",
      "\n",
      "             accuracy                           0.91        76\n",
      "            macro avg       0.93      0.91      0.92        76\n",
      "         weighted avg       0.92      0.91      0.91        76\n",
      "\n"
     ]
    },
    {
     "name": "stderr",
     "output_type": "stream",
     "text": [
      "C:\\Users\\intel 3\\anaconda3\\envs\\tsf\\lib\\site-packages\\sklearn\\linear_model\\_logistic.py:765: ConvergenceWarning: lbfgs failed to converge (status=1):\n",
      "STOP: TOTAL NO. of ITERATIONS REACHED LIMIT.\n",
      "\n",
      "Increase the number of iterations (max_iter) or scale the data as shown in:\n",
      "    https://scikit-learn.org/stable/modules/preprocessing.html\n",
      "Please also refer to the documentation for alternative solver options:\n",
      "    https://scikit-learn.org/stable/modules/linear_model.html#logistic-regression\n",
      "  extra_warning_msg=_LOGISTIC_SOLVER_CONVERGENCE_MSG)\n"
     ]
    }
   ],
   "source": [
    "lr = LogisticRegression(multi_class='multinomial', solver='lbfgs').fit(X_train,y_train)\n",
    "print('Train data:')\n",
    "print(classification_report(lr.predict(X_train),y_train))\n",
    "print('Test data:')\n",
    "print(classification_report(lr.predict(X_test),y_test))\n",
    "import warnings\n",
    "warnings.filterwarnings('ignore')"
   ]
  },
  {
   "cell_type": "markdown",
   "id": "713ab586",
   "metadata": {},
   "source": [
    "## Random Forest Classifier"
   ]
  },
  {
   "cell_type": "code",
   "execution_count": null,
   "id": "db457e84",
   "metadata": {
    "execution": {
     "iopub.execute_input": "2022-04-06T13:27:37.343134Z",
     "iopub.status.busy": "2022-04-06T13:27:37.342015Z",
     "iopub.status.idle": "2022-04-06T13:28:22.397845Z",
     "shell.execute_reply": "2022-04-06T13:28:22.398414Z",
     "shell.execute_reply.started": "2022-04-06T10:19:09.123383Z"
    },
    "papermill": {
     "duration": 45.12906,
     "end_time": "2022-04-06T13:28:22.398597",
     "exception": false,
     "start_time": "2022-04-06T13:27:37.269537",
     "status": "completed"
    },
    "tags": []
   },
   "outputs": [
    {
     "name": "stdout",
     "output_type": "stream",
     "text": [
      "{'criterion': 'gini', 'max_depth': 65, 'min_samples_split': 5}\n"
     ]
    }
   ],
   "source": [
    "rf = RandomForestClassifier()\n",
    "parameters = {'criterion':['entropy','gini'],'min_samples_split':[3,5,10,15],'max_depth':[5,10,20,30,50,65]}\n",
    "gcv = GridSearchCV(rf,parameters).fit(X_train,y_train)\n",
    "print(gcv.best_params_)"
   ]
  },
  {
   "cell_type": "code",
   "execution_count": null,
   "id": "08bc8c7b",
   "metadata": {
    "execution": {
     "iopub.execute_input": "2022-04-06T13:28:22.525422Z",
     "iopub.status.busy": "2022-04-06T13:28:22.524779Z",
     "iopub.status.idle": "2022-04-06T13:28:22.758609Z",
     "shell.execute_reply": "2022-04-06T13:28:22.759151Z",
     "shell.execute_reply.started": "2022-04-06T10:19:51.697401Z"
    },
    "papermill": {
     "duration": 0.298889,
     "end_time": "2022-04-06T13:28:22.759321",
     "exception": false,
     "start_time": "2022-04-06T13:28:22.460432",
     "status": "completed"
    },
    "tags": []
   },
   "outputs": [
    {
     "name": "stdout",
     "output_type": "stream",
     "text": [
      "                       precision    recall  f1-score   support\n",
      "\n",
      "          Chikungunya       1.00      1.00      1.00        19\n",
      "               Dengue       1.00      1.00      1.00        20\n",
      "Japanese encephalitis       1.00      1.00      1.00        15\n",
      "         Lyme disease       1.00      1.00      1.00        16\n",
      "              Malaria       1.00      1.00      1.00        12\n",
      "               Plague       1.00      1.00      1.00        17\n",
      "    Rift Valley fever       1.00      1.00      1.00        14\n",
      "            Tungiasis       1.00      1.00      1.00        17\n",
      "      West Nile fever       1.00      1.00      1.00        14\n",
      "         Yellow Fever       1.00      1.00      1.00        15\n",
      "                 Zika       1.00      1.00      1.00        17\n",
      "\n",
      "             accuracy                           1.00       176\n",
      "            macro avg       1.00      1.00      1.00       176\n",
      "         weighted avg       1.00      1.00      1.00       176\n",
      "\n",
      "                       precision    recall  f1-score   support\n",
      "\n",
      "          Chikungunya       1.00      1.00      1.00         4\n",
      "               Dengue       1.00      0.50      0.67         6\n",
      "Japanese encephalitis       0.88      1.00      0.93         7\n",
      "         Lyme disease       1.00      1.00      1.00         6\n",
      "              Malaria       1.00      0.92      0.96        12\n",
      "               Plague       1.00      1.00      1.00         6\n",
      "    Rift Valley fever       0.56      0.83      0.67         6\n",
      "            Tungiasis       1.00      0.86      0.92         7\n",
      "      West Nile fever       0.89      1.00      0.94         8\n",
      "         Yellow Fever       1.00      1.00      1.00         8\n",
      "                 Zika       1.00      1.00      1.00         6\n",
      "\n",
      "             accuracy                           0.92        76\n",
      "            macro avg       0.94      0.92      0.92        76\n",
      "         weighted avg       0.94      0.92      0.92        76\n",
      "\n"
     ]
    }
   ],
   "source": [
    "rf = RandomForestClassifier(criterion='entropy',max_depth=10,min_samples_split=5).fit(X_train,y_train)\n",
    "print(classification_report(rf.predict(X_train),y_train))\n",
    "print(classification_report(rf.predict(X_test),y_test))"
   ]
  },
  {
   "cell_type": "code",
   "execution_count": null,
   "id": "585a6020",
   "metadata": {},
   "outputs": [],
   "source": []
  },
  {
   "cell_type": "code",
   "execution_count": null,
   "id": "6f77182e",
   "metadata": {},
   "outputs": [],
   "source": []
  }
 ],
 "metadata": {
  "kernelspec": {
   "display_name": "base",
   "language": "python",
   "name": "python3"
  },
  "language_info": {
   "codemirror_mode": {
    "name": "ipython",
    "version": 3
   },
   "file_extension": ".py",
   "mimetype": "text/x-python",
   "name": "python",
   "nbconvert_exporter": "python",
   "pygments_lexer": "ipython3",
   "version": "3.9.12"
  },
  "papermill": {
   "default_parameters": {},
   "duration": 162.74553,
   "end_time": "2022-04-06T13:29:55.577990",
   "environment_variables": {},
   "exception": null,
   "input_path": "__notebook__.ipynb",
   "output_path": "__notebook__.ipynb",
   "parameters": {},
   "start_time": "2022-04-06T13:27:12.832460",
   "version": "2.3.3"
  }
 },
 "nbformat": 4,
 "nbformat_minor": 5
}
